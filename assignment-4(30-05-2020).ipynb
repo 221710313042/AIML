{
 "cells": [
  {
   "cell_type": "markdown",
   "metadata": {},
   "source": [
    "## CSE-221710313042-JAYANTH REDDY"
   ]
  },
  {
   "cell_type": "code",
   "execution_count": 51,
   "metadata": {},
   "outputs": [
    {
     "name": "stdout",
     "output_type": "stream",
     "text": [
      "python\n",
      "programming\n"
     ]
    }
   ],
   "source": [
    "#displaying the word starts with \"p\"\n",
    "str=\"python is a high_level programming language\"\n",
    "for i in str.split():\n",
    "    if i.startswith(\"p\"):\n",
    "        print(i)\n"
   ]
  },
  {
   "cell_type": "code",
   "execution_count": 58,
   "metadata": {},
   "outputs": [],
   "source": [
    "#rename()\n",
    "import os\n",
    "os.rename( \"sample.txt\",\"text.txt\")\n"
   ]
  },
  {
   "cell_type": "code",
   "execution_count": 59,
   "metadata": {},
   "outputs": [],
   "source": [
    "#copying the content to another file\n",
    "new_file = open(\"out.txt\",\"w\")\n",
    "with open(\"text.txt\",\"r\") as f:\n",
    "    new_file.write(f.read())\n",
    "    new_file.close()"
   ]
  },
  {
   "cell_type": "code",
   "execution_count": 60,
   "metadata": {},
   "outputs": [
    {
     "name": "stdout",
     "output_type": "stream",
     "text": [
      "number of lines in the file= 1\n",
      "number of words in the file= 0\n",
      "number of letters in the file= 0\n"
     ]
    }
   ],
   "source": [
    "#Count no.of words,no.of letters,no.of lines available in your file\n",
    "file=open(\"text.txt\",\"r\")\n",
    "content=file.read()\n",
    "list1=content.split(\"\\n\")\n",
    "list2=content.split()\n",
    "print(\"number of lines in the file=\",len(list1))\n",
    "print(\"number of words in the file=\",len(list2))\n",
    "print(\"number of letters in the file=\",sum(len(word) for word in list2))"
   ]
  },
  {
   "cell_type": "code",
   "execution_count": 63,
   "metadata": {},
   "outputs": [
    {
     "data": {
      "text/plain": [
       "'C:\\\\Users\\\\jayan\\\\Desktop\\\\AI & ML'"
      ]
     },
     "execution_count": 63,
     "metadata": {},
     "output_type": "execute_result"
    }
   ],
   "source": [
    "pwd"
   ]
  },
  {
   "cell_type": "code",
   "execution_count": 84,
   "metadata": {},
   "outputs": [],
   "source": [
    "#folder --> 5files -->unique -->512 bits\n",
    "import os\n",
    "import string\n",
    "import random\n",
    "#os.mkdir(\"python\")\n",
    "for i in range(5):\n",
    "    file_name=\"C:\\\\Users\\\\jayan\\\\Desktop\\\\AI & ML\\\\file%d\"%(i)\n",
    "    f = open(file_name,\"a\")\n",
    "    data = \"\"\n",
    "    for i in range(512):\n",
    "        data = data + random.choice(string.ascii_letters)\n",
    "    f.write(data)\n",
    "    f.close()"
   ]
  },
  {
   "cell_type": "code",
   "execution_count": null,
   "metadata": {},
   "outputs": [],
   "source": []
  },
  {
   "cell_type": "code",
   "execution_count": null,
   "metadata": {},
   "outputs": [],
   "source": []
  }
 ],
 "metadata": {
  "kernelspec": {
   "display_name": "Python 3",
   "language": "python",
   "name": "python3"
  },
  "language_info": {
   "codemirror_mode": {
    "name": "ipython",
    "version": 3
   },
   "file_extension": ".py",
   "mimetype": "text/x-python",
   "name": "python",
   "nbconvert_exporter": "python",
   "pygments_lexer": "ipython3",
   "version": "3.7.6"
  }
 },
 "nbformat": 4,
 "nbformat_minor": 4
}
